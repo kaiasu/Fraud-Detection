{
 "cells": [
  {
   "cell_type": "markdown",
   "metadata": {},
   "source": [
    "## Fraud Detection\n",
    "1. We use RandomForestClassfier to predict transaction.\n",
    "\n",
    "1. Data Preprocessing\n",
    "    * Merge two data frame.\n",
    "    * Handle missing data field.\n",
    "    \n",
    "1. Model's performance\n",
    "    * Accuracy\n",
    "    * Recall Score\n",
    "    * Precision Score\n",
    "    * F1 Score\n",
    " \n",
    "1. Imbalanced Dataset\n",
    "    * Under-sampling"
   ]
  },
  {
   "cell_type": "code",
   "execution_count": 1,
   "metadata": {},
   "outputs": [],
   "source": [
    "import pandas as pd\n",
    "import numpy as np\n",
    "import seaborn as sns\n",
    "from sklearn.model_selection import train_test_split\n",
    "from sklearn.ensemble import RandomForestClassifier\n",
    "from sklearn.metrics import f1_score, recall_score, precision_score\n",
    "from sklearn.metrics import confusion_matrix"
   ]
  },
  {
   "cell_type": "code",
   "execution_count": 2,
   "metadata": {},
   "outputs": [],
   "source": [
    "def reduce_mem_usage(df):\n",
    "    \"\"\" iterate through all the columns of a dataframe and modify the data type\n",
    "        to reduce memory usage.        \n",
    "    \"\"\"\n",
    "    start_mem = df.memory_usage().sum() / 1024**2\n",
    "    print('Memory usage of dataframe is {:.2f} MB'.format(start_mem))\n",
    "    \n",
    "    for col in df.columns:\n",
    "        col_type = df[col].dtype\n",
    "        \n",
    "        if col_type != object:\n",
    "            c_min = df[col].min()\n",
    "            c_max = df[col].max()\n",
    "            if str(col_type)[:3] == 'int':\n",
    "                if c_min > np.iinfo(np.int8).min and c_max < np.iinfo(np.int8).max:\n",
    "                    df[col] = df[col].astype(np.int8)\n",
    "                elif c_min > np.iinfo(np.int16).min and c_max < np.iinfo(np.int16).max:\n",
    "                    df[col] = df[col].astype(np.int16)\n",
    "                elif c_min > np.iinfo(np.int32).min and c_max < np.iinfo(np.int32).max:\n",
    "                    df[col] = df[col].astype(np.int32)\n",
    "                elif c_min > np.iinfo(np.int64).min and c_max < np.iinfo(np.int64).max:\n",
    "                    df[col] = df[col].astype(np.int64)  \n",
    "            else:\n",
    "                if c_min > np.finfo(np.float16).min and c_max < np.finfo(np.float16).max:\n",
    "                    df[col] = df[col].astype(np.float16)\n",
    "                elif c_min > np.finfo(np.float32).min and c_max < np.finfo(np.float32).max:\n",
    "                    df[col] = df[col].astype(np.float32)\n",
    "                else:\n",
    "                    df[col] = df[col].astype(np.float64)\n",
    "        else:\n",
    "            df[col] = df[col].astype('category')\n",
    "\n",
    "    end_mem = df.memory_usage().sum() / 1024**2\n",
    "    print('Memory usage after optimization is: {:.2f} MB'.format(end_mem))\n",
    "    print('Decreased by {:.1f}%'.format(100 * (start_mem - end_mem) / start_mem))\n",
    "    \n",
    "    return df\n",
    "\n",
    "\n",
    "def import_data(file):\n",
    "    \"\"\"create a dataframe and optimize its memory usage\"\"\"\n",
    "    df = pd.read_csv(file, parse_dates=True, keep_date_col=True)\n",
    "    df = reduce_mem_usage(df)\n",
    "    return df\n",
    "\n",
    "def print_model_performance(y_test, pred):\n",
    "    matrix = confusion_matrix(y_test, pred)\n",
    "    # separate out the confusion matrix components\n",
    "    tpos = matrix[0][0]\n",
    "    fneg = matrix[1][1]\n",
    "    fpos = matrix[0][1]\n",
    "    tneg = matrix[1][0]\n",
    "    # calculate F!, Recall scores\n",
    "    f1_s = round(f1_score(y_test, pred), 2)\n",
    "    recall_s = round(recall_score(y_test, pred), 2)\n",
    "    precision_s = round(precision_score(y_test, pred), 2)\n",
    "    # calculate and display metrics\n",
    "    print(matrix)\n",
    "    print('Accuracy: '+ str(np.round(100*float(tpos+fneg)/float(tpos+fneg + fpos + tneg),2))+'%')\n",
    "    print('Recall for Model : {}'.format(recall_s))\n",
    "    print('Precision for Model : {}'.format(precision_s))\n",
    "    print('F1 Score for Model : {}'.format(f1_s))\n"
   ]
  },
  {
   "cell_type": "code",
   "execution_count": 3,
   "metadata": {},
   "outputs": [
    {
     "name": "stdout",
     "output_type": "stream",
     "text": [
      "Memory usage of dataframe is 45.12 MB\n",
      "Memory usage after optimization is: 10.02 MB\n",
      "Decreased by 77.8%\n",
      "Memory usage of dataframe is 60.12 MB\n",
      "Memory usage after optimization is: 14.90 MB\n",
      "Decreased by 75.2%\n"
     ]
    }
   ],
   "source": [
    "df_identity = import_data('train_identity.csv')\n",
    "df_transaction = import_data('simple_train_transaction.csv')"
   ]
  },
  {
   "cell_type": "code",
   "execution_count": 4,
   "metadata": {},
   "outputs": [
    {
     "name": "stdout",
     "output_type": "stream",
     "text": [
      "[dtype('float16') dtype('float32')]\n",
      "15999 4000\n"
     ]
    },
    {
     "name": "stderr",
     "output_type": "stream",
     "text": [
      "/home/asu/Geek/SR_course/week3_assigment/venv/lib/python3.6/site-packages/pandas/core/frame.py:4244: SettingWithCopyWarning: \n",
      "A value is trying to be set on a copy of a slice from a DataFrame\n",
      "\n",
      "See the caveats in the documentation: http://pandas.pydata.org/pandas-docs/stable/user_guide/indexing.html#returning-a-view-versus-a-copy\n",
      "  **kwargs\n"
     ]
    }
   ],
   "source": [
    "# Merge two data frame with TransactionID.\n",
    "df_train = pd.merge(df_transaction, df_identity, on='TransactionID', how='left')\n",
    "# Drop column with data type category.\n",
    "df_train_merged = df_train.select_dtypes(exclude=['category'])\n",
    "\n",
    "# Get columns contains NaN.\n",
    "columns_contain_nan = df_train_merged.columns[df_train_merged.isna().any()]\n",
    "# Check data type of it, because we will fill NaN with a specific value. We don't want set a value larger than data type.\n",
    "print(np.unique(df_train_merged.loc[:, columns_contain_nan].dtypes))\n",
    "\n",
    "# dtype float16 range between -32768 and 32767 or 0/65535, so we will fill in -9999 for NaN value.\n",
    "df_train_merged.fillna(value=-9999, inplace=True)\n",
    "df_train_is_fraud = df_train_merged['isFraud']\n",
    "df_train_features = df_train_merged.drop(columns=['isFraud'])\n",
    "\n",
    "# Split our data 80:20 for training and testing.\n",
    "X_train, X_test, y_train, y_test = train_test_split(df_train_features, df_train_is_fraud, train_size=0.80, test_size=0.20, random_state=1)\n",
    "print(len(X_train), len(X_test))"
   ]
  },
  {
   "cell_type": "code",
   "execution_count": 5,
   "metadata": {},
   "outputs": [
    {
     "name": "stderr",
     "output_type": "stream",
     "text": [
      "/home/asu/Geek/SR_course/week3_assigment/venv/lib/python3.6/site-packages/sklearn/ensemble/forest.py:245: FutureWarning: The default value of n_estimators will change from 10 in version 0.20 to 100 in 0.22.\n",
      "  \"10 in version 0.20 to 100 in 0.22.\", FutureWarning)\n"
     ]
    },
    {
     "data": {
      "text/plain": [
       "RandomForestClassifier(bootstrap=True, class_weight=None, criterion='gini',\n",
       "                       max_depth=None, max_features='auto', max_leaf_nodes=None,\n",
       "                       min_impurity_decrease=0.0, min_impurity_split=None,\n",
       "                       min_samples_leaf=1, min_samples_split=2,\n",
       "                       min_weight_fraction_leaf=0.0, n_estimators=10,\n",
       "                       n_jobs=None, oob_score=False, random_state=None,\n",
       "                       verbose=0, warm_start=False)"
      ]
     },
     "execution_count": 5,
     "metadata": {},
     "output_type": "execute_result"
    }
   ],
   "source": [
    "# Let's train our models!!\n",
    "rfc = RandomForestClassifier()\n",
    "rfc.fit(X_train, y_train)"
   ]
  },
  {
   "cell_type": "code",
   "execution_count": 6,
   "metadata": {},
   "outputs": [
    {
     "name": "stdout",
     "output_type": "stream",
     "text": [
      "Model score value:0.9775.\n",
      "{0: 15563, 1: 436} Percentage of fraud:0.027251703231451967\n"
     ]
    },
    {
     "data": {
      "text/html": [
       "<div>\n",
       "<style scoped>\n",
       "    .dataframe tbody tr th:only-of-type {\n",
       "        vertical-align: middle;\n",
       "    }\n",
       "\n",
       "    .dataframe tbody tr th {\n",
       "        vertical-align: top;\n",
       "    }\n",
       "\n",
       "    .dataframe thead th {\n",
       "        text-align: right;\n",
       "    }\n",
       "</style>\n",
       "<table border=\"1\" class=\"dataframe\">\n",
       "  <thead>\n",
       "    <tr style=\"text-align: right;\">\n",
       "      <th>predict</th>\n",
       "      <th>0</th>\n",
       "      <th>1</th>\n",
       "    </tr>\n",
       "    <tr>\n",
       "      <th>Answer</th>\n",
       "      <th></th>\n",
       "      <th></th>\n",
       "    </tr>\n",
       "  </thead>\n",
       "  <tbody>\n",
       "    <tr>\n",
       "      <td>0</td>\n",
       "      <td>3872</td>\n",
       "      <td>2</td>\n",
       "    </tr>\n",
       "    <tr>\n",
       "      <td>1</td>\n",
       "      <td>88</td>\n",
       "      <td>38</td>\n",
       "    </tr>\n",
       "  </tbody>\n",
       "</table>\n",
       "</div>"
      ],
      "text/plain": [
       "predict     0   1\n",
       "Answer           \n",
       "0        3872   2\n",
       "1          88  38"
      ]
     },
     "execution_count": 6,
     "metadata": {},
     "output_type": "execute_result"
    }
   ],
   "source": [
    "# Yaeee! our model's score is 0.979! Awesome!!\n",
    "print('Model score value:{}.'.format(rfc.score(X_test, y_test)))\n",
    "# But wait, is it true?\n",
    "unique, counts = np.unique(y_train.values.tolist(), return_counts=True)\n",
    "print(dict(zip(unique, counts)), 'Percentage of fraud:{}'.format(counts[1]/(counts[0] + counts[1])))\n",
    "# Oops. the percentage of fraud is 0.02725, and our model's score is 0.979. Umm...\n",
    "predict = rfc.predict(X_test)\n",
    "pd.crosstab(y_test.values, predict, rownames=['Answer'], colnames=['predict'])\n"
   ]
  },
  {
   "cell_type": "code",
   "execution_count": 7,
   "metadata": {},
   "outputs": [
    {
     "name": "stdout",
     "output_type": "stream",
     "text": [
      "[[3872    2]\n",
      " [  88   38]]\n",
      "Accuracy: 97.75%\n",
      "Recall for Model : 0.3\n",
      "Precision for Model : 0.95\n",
      "F1 Score for Model : 0.46\n"
     ]
    }
   ],
   "source": [
    "print_model_performance(y_test, predict)"
   ]
  },
  {
   "cell_type": "markdown",
   "metadata": {},
   "source": [
    "### Handle Imbalanced dataset\n",
    "* Under-sampling (con: **discard useful information**)"
   ]
  },
  {
   "cell_type": "code",
   "execution_count": 8,
   "metadata": {},
   "outputs": [
    {
     "name": "stdout",
     "output_type": "stream",
     "text": [
      "Fraud count:562 Not Fraud count:19437\n",
      "Under sampling un fraud from 19437 to 14437.\n"
     ]
    }
   ],
   "source": [
    "# Looks like our model say most of them are not fraud. Maybe the train data are imbalanced.\n",
    "df_train_is_fraud = df_train_merged.loc[df_train_merged['isFraud'] == 1]\n",
    "df_train_not_fraud = df_train_merged.loc[df_train_merged['isFraud'] == 0]\n",
    "print('Fraud count:{} Not Fraud count:{}'.format(len(df_train_is_fraud.index), len(df_train_not_fraud.index)))\n",
    "\n",
    "# Under-sampling not fraud data.\n",
    "df_train_not_fraud_reduced = df_train_not_fraud[:-5000]\n",
    "print('Under sampling un fraud from {} to {}.'.format(len(df_train_not_fraud.index), len(df_train_not_fraud_reduced.index)))\n",
    "df_under_sampling = pd.concat([df_train_is_fraud, df_train_not_fraud_reduced], ignore_index=True)"
   ]
  },
  {
   "cell_type": "code",
   "execution_count": 9,
   "metadata": {},
   "outputs": [
    {
     "name": "stderr",
     "output_type": "stream",
     "text": [
      "/home/asu/Geek/SR_course/week3_assigment/venv/lib/python3.6/site-packages/sklearn/ensemble/forest.py:245: FutureWarning: The default value of n_estimators will change from 10 in version 0.20 to 100 in 0.22.\n",
      "  \"10 in version 0.20 to 100 in 0.22.\", FutureWarning)\n"
     ]
    },
    {
     "data": {
      "text/html": [
       "<div>\n",
       "<style scoped>\n",
       "    .dataframe tbody tr th:only-of-type {\n",
       "        vertical-align: middle;\n",
       "    }\n",
       "\n",
       "    .dataframe tbody tr th {\n",
       "        vertical-align: top;\n",
       "    }\n",
       "\n",
       "    .dataframe thead th {\n",
       "        text-align: right;\n",
       "    }\n",
       "</style>\n",
       "<table border=\"1\" class=\"dataframe\">\n",
       "  <thead>\n",
       "    <tr style=\"text-align: right;\">\n",
       "      <th>predict</th>\n",
       "      <th>0</th>\n",
       "      <th>1</th>\n",
       "    </tr>\n",
       "    <tr>\n",
       "      <th>Answer</th>\n",
       "      <th></th>\n",
       "      <th></th>\n",
       "    </tr>\n",
       "  </thead>\n",
       "  <tbody>\n",
       "    <tr>\n",
       "      <td>0</td>\n",
       "      <td>2914</td>\n",
       "      <td>960</td>\n",
       "    </tr>\n",
       "    <tr>\n",
       "      <td>1</td>\n",
       "      <td>12</td>\n",
       "      <td>114</td>\n",
       "    </tr>\n",
       "  </tbody>\n",
       "</table>\n",
       "</div>"
      ],
      "text/plain": [
       "predict     0    1\n",
       "Answer            \n",
       "0        2914  960\n",
       "1          12  114"
      ]
     },
     "execution_count": 9,
     "metadata": {},
     "output_type": "execute_result"
    }
   ],
   "source": [
    "y_train = df_under_sampling['isFraud']\n",
    "X_train = df_under_sampling.drop(columns=['isFraud'])\n",
    "rfc = RandomForestClassifier()\n",
    "rfc.fit(X_train, y_train)\n",
    "predict = rfc.predict(X_test)\n",
    "pd.crosstab(y_test.values, predict, rownames=['Answer'], colnames=['predict'])\n"
   ]
  },
  {
   "cell_type": "code",
   "execution_count": 10,
   "metadata": {},
   "outputs": [
    {
     "name": "stdout",
     "output_type": "stream",
     "text": [
      "[[2914  960]\n",
      " [  12  114]]\n",
      "Accuracy: 75.7%\n",
      "Recall for Model : 0.9\n",
      "Precision for Model : 0.11\n",
      "F1 Score for Model : 0.19\n"
     ]
    }
   ],
   "source": [
    "print_model_performance(y_test, predict)"
   ]
  },
  {
   "cell_type": "markdown",
   "metadata": {},
   "source": [
    "### What's next\n",
    "* We can try to find meaningful category data and translate it to our training dataset.\n",
    "* Remove noise data.\n",
    "* Handle imbalanced dataset with Over-sampling (con: **overfiting**)\n",
    "    * SMOTE\n",
    "    * ADASYN"
   ]
  },
  {
   "cell_type": "code",
   "execution_count": 11,
   "metadata": {},
   "outputs": [
    {
     "name": "stdout",
     "output_type": "stream",
     "text": [
      "ProductCD        category\n",
      "card4            category\n",
      "card6            category\n",
      "P_emaildomain    category\n",
      "R_emaildomain    category\n",
      "M1               category\n",
      "M2               category\n",
      "M3               category\n",
      "M4               category\n",
      "M5               category\n",
      "M6               category\n",
      "M7               category\n",
      "M8               category\n",
      "M9               category\n",
      "id_12            category\n",
      "id_15            category\n",
      "id_16            category\n",
      "id_23            category\n",
      "id_27            category\n",
      "id_28            category\n",
      "dtype: object\n"
     ]
    },
    {
     "data": {
      "text/plain": [
       "<matplotlib.axes._subplots.AxesSubplot at 0x7f412d06b128>"
      ]
     },
     "execution_count": 11,
     "metadata": {},
     "output_type": "execute_result"
    },
    {
     "data": {
      "image/png": "[encoded data removed]",
      "text/plain": [
       "<Figure size 432x288 with 1 Axes>"
      ]
     },
     "metadata": {
      "needs_background": "light"
     },
     "output_type": "display_data"
    }
   ],
   "source": [
    "df_category = df_train.select_dtypes(include=['category'])\n",
    "print(df_category.dtypes.head(20))\n",
    "df_card4 = df_train.loc[:,['isFraud','card4']]\n",
    "# print(product_codes.values)\n",
    "sns.countplot(x=\"isFraud\", data=df_card4, hue='card4')"
   ]
  },
  {
   "cell_type": "code",
   "execution_count": 12,
   "metadata": {},
   "outputs": [
    {
     "data": {
      "text/plain": [
       "<matplotlib.axes._subplots.AxesSubplot at 0x7f412cfb3390>"
      ]
     },
     "execution_count": 12,
     "metadata": {},
     "output_type": "execute_result"
    },
    {
     "data": {
      "image/png": "[encoded data removed]",
      "text/plain": [
       "<Figure size 432x288 with 1 Axes>"
      ]
     },
     "metadata": {
      "needs_background": "light"
     },
     "output_type": "display_data"
    }
   ],
   "source": [
    "df_C6 = df_train.loc[:, ['isFraud', 'C6']]\n",
    "sns.scatterplot(x='C6', y='isFraud', data=df_C6)"
   ]
  },
  {
   "cell_type": "code",
   "execution_count": null,
   "metadata": {},
   "outputs": [],
   "source": []
  }
 ],
 "metadata": {
  "kernelspec": {
   "display_name": "Python 3",
   "language": "python",
   "name": "python3"
  },
  "language_info": {
   "codemirror_mode": {
    "name": "ipython",
    "version": 3
   },
   "file_extension": ".py",
   "mimetype": "text/x-python",
   "name": "python",
   "nbconvert_exporter": "python",
   "pygments_lexer": "ipython3",
   "version": "3.6.8"
  }
 },
 "nbformat": 4,
 "nbformat_minor": 2
}
